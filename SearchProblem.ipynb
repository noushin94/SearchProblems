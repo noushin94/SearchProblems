{
  "nbformat": 4,
  "nbformat_minor": 0,
  "metadata": {
    "colab": {
      "provenance": [],
      "authorship_tag": "ABX9TyN9i0AsKsOBP+HocOl3+yW9",
      "include_colab_link": true
    },
    "kernelspec": {
      "name": "python3",
      "display_name": "Python 3"
    },
    "language_info": {
      "name": "python"
    }
  },
  "cells": [
    {
      "cell_type": "markdown",
      "metadata": {
        "id": "view-in-github",
        "colab_type": "text"
      },
      "source": [
        "<a href=\"https://colab.research.google.com/github/noushin94/SearchProblems/blob/main/SearchProblem.ipynb\" target=\"_parent\"><img src=\"https://colab.research.google.com/assets/colab-badge.svg\" alt=\"Open In Colab\"/></a>"
      ]
    },
    {
      "cell_type": "code",
      "execution_count": 10,
      "metadata": {
        "id": "oUs4PNYzQkn6"
      },
      "outputs": [],
      "source": [
        "# search problem\n",
        "\n",
        "class TransportationSystem(object):\n",
        "  def __init__(self,N):\n",
        "    #N number of blocks\n",
        "   self.N = N\n",
        "  def startstate(self):\n",
        "    return 1\n",
        "  def isEnd(self, state):\n",
        "    return state ==self.N\n",
        "  def SuccesandCost(self, state):\n",
        "    #create a list\n",
        "    result=[]\n",
        "    if state+1 <= self.N:\n",
        "      result.append(('walk',state+1,1))\n",
        "    if state*2 <= self.N:\n",
        "      result.append(('Tram', state*2, 2))\n",
        "    return result\n",
        "\n"
      ]
    },
    {
      "cell_type": "code",
      "source": [
        "problem = TransportationSystem(N=10)\n",
        "print(problem.SuccesandCost(1))"
      ],
      "metadata": {
        "colab": {
          "base_uri": "https://localhost:8080/"
        },
        "id": "FJLYFEOoSuSp",
        "outputId": "ad234933-1ce2-40d0-e22a-fea5f121f978"
      },
      "execution_count": 11,
      "outputs": [
        {
          "output_type": "stream",
          "name": "stdout",
          "text": [
            "[('walk', 2, 1), ('Tram', 2, 2)]\n"
          ]
        }
      ]
    },
    {
      "cell_type": "code",
      "source": [
        "print(problem.SuccesandCost(5)) # so if I am in state 5 the Tram is better for me"
      ],
      "metadata": {
        "colab": {
          "base_uri": "https://localhost:8080/"
        },
        "id": "gUo5Pk5BTOdu",
        "outputId": "ef0aa27f-a04b-4815-81bc-2901f58bf47c"
      },
      "execution_count": 12,
      "outputs": [
        {
          "output_type": "stream",
          "name": "stdout",
          "text": [
            "[('walk', 6, 1), ('Tram', 10, 2)]\n"
          ]
        }
      ]
    },
    {
      "cell_type": "code",
      "source": [
        "print(problem.SuccesandCost(3))"
      ],
      "metadata": {
        "colab": {
          "base_uri": "https://localhost:8080/"
        },
        "id": "J8buA4-rTccx",
        "outputId": "8f507aa0-beee-436f-ac7c-0d07a0dcc43f"
      },
      "execution_count": null,
      "outputs": [
        {
          "output_type": "stream",
          "name": "stdout",
          "text": [
            "[('walk', 4, 1), ('Tram', 6, 2)]\n"
          ]
        }
      ]
    },
    {
      "cell_type": "code",
      "source": [
        "def printSolution(solution):\n",
        "    totalCost, history = solution\n",
        "    print('totalCost: {}'.format(totalCost))\n",
        "    for item in history:\n",
        "        print(item)"
      ],
      "metadata": {
        "id": "xKw8dQ8eq3Lr"
      },
      "execution_count": 13,
      "outputs": []
    },
    {
      "cell_type": "code",
      "source": [
        "def backtrackingSearch(problem):\n",
        "    # Best solution found so far (dictionary because of python scoping technicality)\n",
        "    best = {\n",
        "        'cost': float('+inf'),\n",
        "        'history': None\n",
        "    }\n",
        "    def recurse(state, history, totalCost):\n",
        "        # At state, having undergone history, accumulated\n",
        "        # totalCost.\n",
        "        # Explore the rest of the subtree under state.\n",
        "        if problem.isEnd(state):\n",
        "            # Update the best solution so far\n",
        "            if totalCost<best['cost']:\n",
        "                best['cost'] = totalCost\n",
        "                best['history'] = history\n",
        "            return\n",
        "        # Recurse on children\n",
        "        for action, newState, cost in problem. SuccesandCost(state):\n",
        "            recurse(newState, history+[(action, newState, cost)], totalCost+cost)\n",
        "    recurse(problem.startstate(), history=[], totalCost=0)\n",
        "    return (best['cost'], best['history'])\n"
      ],
      "metadata": {
        "id": "LHLZbrcKlgNC"
      },
      "execution_count": 14,
      "outputs": []
    },
    {
      "cell_type": "code",
      "source": [
        "problem = TransportationSystem(N=10)\n",
        "printSolution(backtrackingSearch(problem))"
      ],
      "metadata": {
        "colab": {
          "base_uri": "https://localhost:8080/"
        },
        "id": "nlrDqIE9rF4j",
        "outputId": "1ead9f19-7dfb-4eb2-dad7-4f57c5161cd9"
      },
      "execution_count": 15,
      "outputs": [
        {
          "output_type": "stream",
          "name": "stdout",
          "text": [
            "totalCost: 6\n",
            "('walk', 2, 1)\n",
            "('walk', 3, 1)\n",
            "('walk', 4, 1)\n",
            "('walk', 5, 1)\n",
            "('Tram', 10, 2)\n"
          ]
        }
      ]
    },
    {
      "cell_type": "code",
      "source": [
        "\n",
        "def dynamicProgramming(problem):\n",
        "    cache = {} # state -> futureCost(state)\n",
        "    def futurecost(state):\n",
        "        # Base case\n",
        "        if problem.isEnd(state):\n",
        "            return 0\n",
        "        if state in cache: # Exponential savings\n",
        "            return cache[state]\n",
        "        # Actually doing work\n",
        "        result = min(cost+futurecost(newstate) \\\n",
        "                for action, newstate, cost in problem.SuccesandCost(state))\n",
        "        cache[state] = result\n",
        "        return result\n",
        "    return (futurecost(problem.startstate()), [])\n",
        "\n",
        "\n"
      ],
      "metadata": {
        "id": "d43saKE2Rm-g"
      },
      "execution_count": 16,
      "outputs": []
    },
    {
      "cell_type": "code",
      "source": [
        "printSolution(dynamicProgramming(problem))"
      ],
      "metadata": {
        "colab": {
          "base_uri": "https://localhost:8080/"
        },
        "id": "RPFcnDYuTPpn",
        "outputId": "adbab979-eed3-4277-c91d-706723d934cc"
      },
      "execution_count": 17,
      "outputs": [
        {
          "output_type": "stream",
          "name": "stdout",
          "text": [
            "totalCost: 6\n"
          ]
        }
      ]
    }
  ]
}